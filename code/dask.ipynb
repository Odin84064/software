{
 "cells": [
  {
   "cell_type": "code",
   "execution_count": null,
   "id": "cb3c99d3",
   "metadata": {},
   "outputs": [],
   "source": [
    "import pandas as pd\n",
    "import re\n",
    "import numpy as np\n",
    "import os\n",
    "import time\n",
    "import seaborn as sns\n",
    "import matplotlib.pyplot as plt\n",
    "import dask.dataframe as dd\n",
    "from dask.diagnostics import ProgressBar \n",
    "import hvplot.dask\n",
    "from mlxtend.preprocessing import minmax_scaling\n",
    "#from matplotlib import pyplot as plt    \n",
    "from scipy import stats\n",
    "\n",
    "\n",
    "\n"
   ]
  },
  {
   "cell_type": "code",
   "execution_count": 2,
   "id": "1ba181b1",
   "metadata": {},
   "outputs": [],
   "source": [
    "os.chdir(\"../dataset\")\n",
    "columns = ['PDG ID','Px','Py','Pz' ,'E','m','Status']\n",
    "\n",
    "df = dd.read_parquet('myfile3.parquet', engine='pyarrow',npartitions = 2)\n",
    "    \n"
   ]
  },
  {
   "cell_type": "code",
   "execution_count": 3,
   "id": "5a76933d",
   "metadata": {},
   "outputs": [
    {
     "name": "stdout",
     "output_type": "stream",
     "text": [
      "<class 'dask.dataframe.core.DataFrame'>\n",
      "Columns: 7 entries, PDG ID to Status\n",
      "dtypes: float32(5), int16(2)"
     ]
    }
   ],
   "source": [
    "df.info()"
   ]
  },
  {
   "cell_type": "code",
   "execution_count": 4,
   "id": "e205ac45",
   "metadata": {},
   "outputs": [
    {
     "data": {
      "text/html": [
       "<div><strong>Dask DataFrame Structure:</strong></div>\n",
       "<div>\n",
       "<style scoped>\n",
       "    .dataframe tbody tr th:only-of-type {\n",
       "        vertical-align: middle;\n",
       "    }\n",
       "\n",
       "    .dataframe tbody tr th {\n",
       "        vertical-align: top;\n",
       "    }\n",
       "\n",
       "    .dataframe thead th {\n",
       "        text-align: right;\n",
       "    }\n",
       "</style>\n",
       "<table border=\"1\" class=\"dataframe\">\n",
       "  <thead>\n",
       "    <tr style=\"text-align: right;\">\n",
       "      <th></th>\n",
       "      <th>PDG ID</th>\n",
       "      <th>Px</th>\n",
       "      <th>Py</th>\n",
       "      <th>Pz</th>\n",
       "      <th>E</th>\n",
       "      <th>m</th>\n",
       "      <th>Status</th>\n",
       "    </tr>\n",
       "    <tr>\n",
       "      <th>npartitions=1</th>\n",
       "      <th></th>\n",
       "      <th></th>\n",
       "      <th></th>\n",
       "      <th></th>\n",
       "      <th></th>\n",
       "      <th></th>\n",
       "      <th></th>\n",
       "    </tr>\n",
       "  </thead>\n",
       "  <tbody>\n",
       "    <tr>\n",
       "      <th></th>\n",
       "      <td>float64</td>\n",
       "      <td>float64</td>\n",
       "      <td>float64</td>\n",
       "      <td>float64</td>\n",
       "      <td>float64</td>\n",
       "      <td>float64</td>\n",
       "      <td>float64</td>\n",
       "    </tr>\n",
       "    <tr>\n",
       "      <th></th>\n",
       "      <td>...</td>\n",
       "      <td>...</td>\n",
       "      <td>...</td>\n",
       "      <td>...</td>\n",
       "      <td>...</td>\n",
       "      <td>...</td>\n",
       "      <td>...</td>\n",
       "    </tr>\n",
       "  </tbody>\n",
       "</table>\n",
       "</div>\n",
       "<div>Dask Name: describe-numeric, 46 tasks</div>"
      ],
      "text/plain": [
       "Dask DataFrame Structure:\n",
       "                PDG ID       Px       Py       Pz        E        m   Status\n",
       "npartitions=1                                                               \n",
       "               float64  float64  float64  float64  float64  float64  float64\n",
       "                   ...      ...      ...      ...      ...      ...      ...\n",
       "Dask Name: describe-numeric, 46 tasks"
      ]
     },
     "execution_count": 4,
     "metadata": {},
     "output_type": "execute_result"
    }
   ],
   "source": [
    "df.describe()"
   ]
  },
  {
   "cell_type": "code",
   "execution_count": 5,
   "id": "85d1ec39",
   "metadata": {},
   "outputs": [
    {
     "data": {
      "text/html": [
       "<div>\n",
       "<style scoped>\n",
       "    .dataframe tbody tr th:only-of-type {\n",
       "        vertical-align: middle;\n",
       "    }\n",
       "\n",
       "    .dataframe tbody tr th {\n",
       "        vertical-align: top;\n",
       "    }\n",
       "\n",
       "    .dataframe thead th {\n",
       "        text-align: right;\n",
       "    }\n",
       "</style>\n",
       "<table border=\"1\" class=\"dataframe\">\n",
       "  <thead>\n",
       "    <tr style=\"text-align: right;\">\n",
       "      <th></th>\n",
       "      <th>PDG ID</th>\n",
       "      <th>Px</th>\n",
       "      <th>Py</th>\n",
       "      <th>Pz</th>\n",
       "      <th>E</th>\n",
       "      <th>m</th>\n",
       "      <th>Status</th>\n",
       "    </tr>\n",
       "  </thead>\n",
       "  <tbody>\n",
       "    <tr>\n",
       "      <th>0</th>\n",
       "      <td>22</td>\n",
       "      <td>0.006580</td>\n",
       "      <td>0.013100</td>\n",
       "      <td>0.003950</td>\n",
       "      <td>0.015200</td>\n",
       "      <td>0.000000e+00</td>\n",
       "      <td>1</td>\n",
       "    </tr>\n",
       "    <tr>\n",
       "      <th>1</th>\n",
       "      <td>-13</td>\n",
       "      <td>-43.200001</td>\n",
       "      <td>-44.700001</td>\n",
       "      <td>-49.599998</td>\n",
       "      <td>79.599998</td>\n",
       "      <td>1.060000e-01</td>\n",
       "      <td>1</td>\n",
       "    </tr>\n",
       "    <tr>\n",
       "      <th>2</th>\n",
       "      <td>14</td>\n",
       "      <td>3.500000</td>\n",
       "      <td>21.400000</td>\n",
       "      <td>0.499000</td>\n",
       "      <td>21.700001</td>\n",
       "      <td>2.380000e-07</td>\n",
       "      <td>1</td>\n",
       "    </tr>\n",
       "    <tr>\n",
       "      <th>3</th>\n",
       "      <td>-16</td>\n",
       "      <td>41.099998</td>\n",
       "      <td>-18.000000</td>\n",
       "      <td>27.799999</td>\n",
       "      <td>52.799999</td>\n",
       "      <td>9.540000e-07</td>\n",
       "      <td>1</td>\n",
       "    </tr>\n",
       "    <tr>\n",
       "      <th>4</th>\n",
       "      <td>211</td>\n",
       "      <td>0.483000</td>\n",
       "      <td>-0.312000</td>\n",
       "      <td>1.520000</td>\n",
       "      <td>1.630000</td>\n",
       "      <td>1.400000e-01</td>\n",
       "      <td>1</td>\n",
       "    </tr>\n",
       "  </tbody>\n",
       "</table>\n",
       "</div>"
      ],
      "text/plain": [
       "   PDG ID         Px         Py         Pz          E             m  Status\n",
       "0      22   0.006580   0.013100   0.003950   0.015200  0.000000e+00       1\n",
       "1     -13 -43.200001 -44.700001 -49.599998  79.599998  1.060000e-01       1\n",
       "2      14   3.500000  21.400000   0.499000  21.700001  2.380000e-07       1\n",
       "3     -16  41.099998 -18.000000  27.799999  52.799999  9.540000e-07       1\n",
       "4     211   0.483000  -0.312000   1.520000   1.630000  1.400000e-01       1"
      ]
     },
     "execution_count": 5,
     "metadata": {},
     "output_type": "execute_result"
    }
   ],
   "source": [
    "df.head()"
   ]
  },
  {
   "cell_type": "code",
   "execution_count": 6,
   "id": "c5ae94d7",
   "metadata": {},
   "outputs": [
    {
     "data": {
      "text/plain": [
       "Index(['PDG ID', 'Px', 'Py', 'Pz', 'E', 'm', 'Status'], dtype='object')"
      ]
     },
     "execution_count": 6,
     "metadata": {},
     "output_type": "execute_result"
    }
   ],
   "source": [
    "df.columns"
   ]
  },
  {
   "cell_type": "code",
   "execution_count": 7,
   "id": "4a7b7747",
   "metadata": {},
   "outputs": [
    {
     "name": "stdout",
     "output_type": "stream",
     "text": [
      "E         1940007884\n",
      "Index            128\n",
      "PDG ID     970003942\n",
      "Px        1940007884\n",
      "Py        1940007884\n",
      "Pz        1940007884\n",
      "Status     970003942\n",
      "m         1940007884\n",
      "dtype: int64\n"
     ]
    }
   ],
   "source": [
    "print(df.memory_usage(deep=True).compute())"
   ]
  },
  {
   "cell_type": "code",
   "execution_count": 8,
   "id": "76337a60",
   "metadata": {},
   "outputs": [],
   "source": [
    "missing_values_count = df.isnull().sum()\n",
    "#print(missing_values_count[0:7])"
   ]
  },
  {
   "cell_type": "code",
   "execution_count": 9,
   "id": "8b5181f6",
   "metadata": {},
   "outputs": [
    {
     "name": "stdout",
     "output_type": "stream",
     "text": [
      "Dask Series Structure:\n",
      "npartitions=1\n",
      "E    int64\n",
      "m      ...\n",
      "dtype: int64\n",
      "Dask Name: dataframe-sum-agg, 4 tasks\n"
     ]
    }
   ],
   "source": [
    "with ProgressBar():\n",
    "    print(missing_values_count)\n"
   ]
  },
  {
   "cell_type": "code",
   "execution_count": 10,
   "id": "79754f5b",
   "metadata": {},
   "outputs": [
    {
     "data": {
      "text/html": [
       "<div><strong>Dask DataFrame Structure:</strong></div>\n",
       "<div>\n",
       "<style scoped>\n",
       "    .dataframe tbody tr th:only-of-type {\n",
       "        vertical-align: middle;\n",
       "    }\n",
       "\n",
       "    .dataframe tbody tr th {\n",
       "        vertical-align: top;\n",
       "    }\n",
       "\n",
       "    .dataframe thead th {\n",
       "        text-align: right;\n",
       "    }\n",
       "</style>\n",
       "<table border=\"1\" class=\"dataframe\">\n",
       "  <thead>\n",
       "    <tr style=\"text-align: right;\">\n",
       "      <th></th>\n",
       "      <th>PDG ID</th>\n",
       "      <th>Px</th>\n",
       "      <th>Py</th>\n",
       "      <th>Pz</th>\n",
       "      <th>E</th>\n",
       "      <th>m</th>\n",
       "      <th>Status</th>\n",
       "    </tr>\n",
       "    <tr>\n",
       "      <th>npartitions=1</th>\n",
       "      <th></th>\n",
       "      <th></th>\n",
       "      <th></th>\n",
       "      <th></th>\n",
       "      <th></th>\n",
       "      <th></th>\n",
       "      <th></th>\n",
       "    </tr>\n",
       "  </thead>\n",
       "  <tbody>\n",
       "    <tr>\n",
       "      <th></th>\n",
       "      <td>int16</td>\n",
       "      <td>float32</td>\n",
       "      <td>float32</td>\n",
       "      <td>float32</td>\n",
       "      <td>float32</td>\n",
       "      <td>float32</td>\n",
       "      <td>int16</td>\n",
       "    </tr>\n",
       "    <tr>\n",
       "      <th></th>\n",
       "      <td>...</td>\n",
       "      <td>...</td>\n",
       "      <td>...</td>\n",
       "      <td>...</td>\n",
       "      <td>...</td>\n",
       "      <td>...</td>\n",
       "      <td>...</td>\n",
       "    </tr>\n",
       "  </tbody>\n",
       "</table>\n",
       "</div>\n",
       "<div>Dask Name: read-parquet, 1 tasks</div>"
      ],
      "text/plain": [
       "Dask DataFrame Structure:\n",
       "              PDG ID       Px       Py       Pz        E        m Status\n",
       "npartitions=1                                                           \n",
       "               int16  float32  float32  float32  float32  float32  int16\n",
       "                 ...      ...      ...      ...      ...      ...    ...\n",
       "Dask Name: read-parquet, 1 tasks"
      ]
     },
     "execution_count": 10,
     "metadata": {},
     "output_type": "execute_result"
    }
   ],
   "source": [
    "df"
   ]
  },
  {
   "cell_type": "code",
   "execution_count": 11,
   "id": "7418b2f6",
   "metadata": {},
   "outputs": [
    {
     "data": {
      "text/plain": [
       "Dask Series Structure:\n",
       "npartitions=1\n",
       "E    int64\n",
       "m      ...\n",
       "dtype: int64\n",
       "Dask Name: dataframe-sum-agg, 4 tasks"
      ]
     },
     "execution_count": 11,
     "metadata": {},
     "output_type": "execute_result"
    }
   ],
   "source": [
    "missing_values = df.isnull().sum()\n",
    "missing_values"
   ]
  },
  {
   "cell_type": "code",
   "execution_count": 12,
   "id": "d19bcdf6",
   "metadata": {},
   "outputs": [
    {
     "name": "stdout",
     "output_type": "stream",
     "text": [
      "[########################################] | 100% Completed | 52.2s\n"
     ]
    },
    {
     "data": {
      "text/plain": [
       "PDG ID    0\n",
       "Px        0\n",
       "Py        0\n",
       "Pz        0\n",
       "E         0\n",
       "m         0\n",
       "Status    0\n",
       "dtype: int64"
      ]
     },
     "execution_count": 12,
     "metadata": {},
     "output_type": "execute_result"
    }
   ],
   "source": [
    "with ProgressBar():\n",
    "   missing_count_pct = missing_values.compute()\n",
    "missing_count_pct"
   ]
  },
  {
   "cell_type": "code",
   "execution_count": 13,
   "id": "a486e3ab",
   "metadata": {},
   "outputs": [],
   "source": [
    "#print(df.divisions)    \n",
    "#print(df.npartitions)    \n"
   ]
  },
  {
   "cell_type": "code",
   "execution_count": 14,
   "id": "0253109f",
   "metadata": {},
   "outputs": [],
   "source": [
    "#print(df.divisions)   "
   ]
  },
  {
   "cell_type": "code",
   "execution_count": 15,
   "id": "7efd0ba8",
   "metadata": {},
   "outputs": [],
   "source": [
    "# sns.set(style=\"whitegrid\")\n",
    "# f, ax = plt.subplots(figsize=(10, 10))\n",
    "# seaborn.despine(f, left=True, bottom=True)\n",
    "\n",
    "# with ProgressBar():\n",
    "#     sns.histplot(x=\"Temp\", y=\"Summons Number\",\n",
    "#                 data=citationsAndTemps.compute(), ax=ax)\n",
    "#     plt.ylim(ymin=0)\n",
    "#     plt.xlim(xmin=0)"
   ]
  },
  {
   "cell_type": "code",
   "execution_count": 16,
   "id": "7f627d74",
   "metadata": {},
   "outputs": [],
   "source": [
    "# with ProgressBar():\n",
    "#     fig, ax = plt.subplots(1, 1, figsize=(15, 3))\n",
    "#     sns.histplot(df['m'], ax=ax, kde=True, legend=False)\n",
    "#     ax.set_title(\"Original Data\")"
   ]
  },
  {
   "cell_type": "code",
   "execution_count": 17,
   "id": "1d2824ee",
   "metadata": {},
   "outputs": [],
   "source": [
    "#with ProgressBar():\n",
    " #   a =df.hvplot.kde(y='m', width=300, subplots=True)\n"
   ]
  },
  {
   "cell_type": "code",
   "execution_count": 18,
   "id": "b93094d8",
   "metadata": {},
   "outputs": [],
   "source": [
    "#a"
   ]
  },
  {
   "cell_type": "code",
   "execution_count": 19,
   "id": "5420e68c",
   "metadata": {},
   "outputs": [],
   "source": [
    "#df.columns"
   ]
  },
  {
   "cell_type": "code",
   "execution_count": 21,
   "id": "1aa68347",
   "metadata": {},
   "outputs": [],
   "source": [
    "#print(E)"
   ]
  },
  {
   "cell_type": "code",
   "execution_count": 22,
   "id": "bdc73420",
   "metadata": {},
   "outputs": [],
   "source": [
    "#normalized_df = df.copy()\n",
    "# normalize the exponential data with boxcox\n",
    "#normalized_df[['Px','Py','Pz' ,'E','m','Status']] = stats.boxcox(normalized_df[['Px','Py','Pz' ,'E','m','Status']])\n",
    "\n",
    "# plot both together to compare\n",
    "# 'fig, ax=plt.subplots(1, 2, figsize=(15, 3))\n",
    "# sns.histplot(original_data, ax=ax[0], kde=True, legend=False)\n",
    "# ax[0].set_title(\"Original Data\")\n",
    "# sns.histplot(normalized_data[0], ax=ax[1], kde=True, legend=False)\n",
    "# ax[1].set_title(\"Normalized data\")\n",
    "# plt.show()\n"
   ]
  },
  {
   "cell_type": "code",
   "execution_count": null,
   "id": "ce92365a",
   "metadata": {},
   "outputs": [],
   "source": [
    "def normalize(df):\n",
    "    result = df.copy()\n",
    "    for feature_name in df.columns:\n",
    "        max_value = df[feature_name].max()\n",
    "        min_value = df[feature_name].min()\n",
    "        result[feature_name] = (df[feature_name] - min_value) / (max_value - min_value)\n",
    "    return result\n",
    "\n",
    "\n",
    "feature_name = ['Px','Py','Pz' ,'E','m']\n",
    "normalized_df = normalize(df)"
   ]
  },
  {
   "cell_type": "code",
   "execution_count": 25,
   "id": "9340eacd",
   "metadata": {},
   "outputs": [],
   "source": [
    "#df['m'].head()"
   ]
  },
  {
   "cell_type": "code",
   "execution_count": 26,
   "id": "771a443e",
   "metadata": {},
   "outputs": [],
   "source": [
    "#####################\n",
    "#plotting"
   ]
  },
  {
   "cell_type": "code",
   "execution_count": null,
   "id": "54380412",
   "metadata": {},
   "outputs": [],
   "source": [
    "#Px\n",
    "# plot both together to compare\n",
    "fig, ax=plt.subplots(1, 2, figsize=(15, 3))\n",
    "sns.histplot(df['Px'], ax=ax[0], kde=True, legend=False)\n",
    "ax[0].set_title(\"Original Px\")\n",
    "sns.histplot(normalized_df['Px'], ax=ax[1], kde=True, legend=False)\n",
    "ax[1].set_title(\"Normalized Px\")\n",
    "plt.show()\n"
   ]
  },
  {
   "cell_type": "code",
   "execution_count": null,
   "id": "9b29efb3",
   "metadata": {},
   "outputs": [],
   "source": []
  }
 ],
 "metadata": {
  "kernelspec": {
   "display_name": "Python 3 (ipykernel)",
   "language": "python",
   "name": "python3"
  },
  "language_info": {
   "codemirror_mode": {
    "name": "ipython",
    "version": 3
   },
   "file_extension": ".py",
   "mimetype": "text/x-python",
   "name": "python",
   "nbconvert_exporter": "python",
   "pygments_lexer": "ipython3",
   "version": "3.7.11"
  }
 },
 "nbformat": 4,
 "nbformat_minor": 5
}
