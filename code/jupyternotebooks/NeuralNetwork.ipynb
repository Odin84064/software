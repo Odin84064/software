version https://git-lfs.github.com/spec/v1
oid sha256:adb374eca81de4960fa961149a404ee1ec50cf47ea1a46d283b504b6e8d21831
size 146480
