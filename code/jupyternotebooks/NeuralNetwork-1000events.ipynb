version https://git-lfs.github.com/spec/v1
oid sha256:71a0d504aff2fe23b7e123c4eb7cdb9407dc5164ac9a6541ed76a437823ac41f
size 303081
