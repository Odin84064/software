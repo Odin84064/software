version https://git-lfs.github.com/spec/v1
oid sha256:0371acfff793c8c1e7681688fa4510f7ad5111129bcb476027f5bc0a2d319c1c
size 146509
